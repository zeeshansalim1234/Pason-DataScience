{
  "nbformat": 4,
  "nbformat_minor": 0,
  "metadata": {
    "colab": {
      "name": "pason.ipynb",
      "provenance": [],
      "authorship_tag": "ABX9TyO5kUCiipjtbugjzH2Zh9Uc",
      "include_colab_link": true
    },
    "kernelspec": {
      "name": "python3",
      "display_name": "Python 3"
    },
    "language_info": {
      "name": "python"
    }
  },
  "cells": [
    {
      "cell_type": "markdown",
      "metadata": {
        "id": "view-in-github",
        "colab_type": "text"
      },
      "source": [
        "<a href=\"https://colab.research.google.com/github/zeeshansalim1234/Pason-DataScience/blob/main/pason.ipynb\" target=\"_parent\"><img src=\"https://colab.research.google.com/assets/colab-badge.svg\" alt=\"Open In Colab\"/></a>"
      ]
    },
    {
      "cell_type": "markdown",
      "metadata": {
        "id": "koKFYl0YpSVx"
      },
      "source": [
        "# Importing Libraries"
      ]
    },
    {
      "cell_type": "code",
      "metadata": {
        "id": "0ytiEqjjJojC"
      },
      "source": [
        "import pandas as pd \n",
        "import matplotlib.pyplot as plt"
      ],
      "execution_count": 18,
      "outputs": []
    },
    {
      "cell_type": "markdown",
      "metadata": {
        "id": "68adPC78pZgT"
      },
      "source": [
        "# Creating Pandas DataFrame"
      ]
    },
    {
      "cell_type": "code",
      "metadata": {
        "id": "bjP2Ws-bNZ9r"
      },
      "source": [
        "df_drilling = pd.read_csv('drillingdata.csv')"
      ],
      "execution_count": 19,
      "outputs": []
    },
    {
      "cell_type": "markdown",
      "metadata": {
        "id": "6LIQNCkYpgxU"
      },
      "source": [
        "# Caluculating Drilling and Connection Times"
      ]
    },
    {
      "cell_type": "code",
      "metadata": {
        "id": "5c0wDG8gRnah"
      },
      "source": [
        "total_time=len(df_drilling)  # Gives Overall Time of the operation"
      ],
      "execution_count": 7,
      "outputs": []
    },
    {
      "cell_type": "code",
      "metadata": {
        "id": "DizroYibSovh"
      },
      "source": [
        "time_connection=(df_drilling['WeightOnBit_klbs']==0).sum() # Gives Total connection time"
      ],
      "execution_count": 23,
      "outputs": []
    },
    {
      "cell_type": "code",
      "metadata": {
        "colab": {
          "base_uri": "https://localhost:8080/"
        },
        "id": "DIghk2-KS2La",
        "outputId": "e9464963-3b90-48eb-c9c4-eb962fb58840"
      },
      "source": [
        "time_drilling= total_time-time_connection # Gives Total Drilling Time\n",
        "print(\"Time spent drilling: \"+str(time_drilling)+\"s\")\n",
        "print(\"Time spent making connections: \"+str(time_connection)+\"s\")"
      ],
      "execution_count": 9,
      "outputs": [
        {
          "output_type": "stream",
          "name": "stdout",
          "text": [
            "Time spent drilling: 7569s\n",
            "Time spent making connections: 2431s\n"
          ]
        }
      ]
    },
    {
      "cell_type": "markdown",
      "metadata": {
        "id": "O-wP7VcZqCL7"
      },
      "source": [
        "# Functions for Visualization of Results"
      ]
    },
    {
      "cell_type": "code",
      "metadata": {
        "id": "k1QbbiQrBHgx"
      },
      "source": [
        "def scatterplot(temp_dict):\n",
        "  plt.figure(figsize=(10,8))\n",
        "  plt.title('Scatter Plot\\n', fontsize=20)\n",
        "  plt.xlabel('Weight On Bit (Klbs)', fontsize=15)\n",
        "  plt.ylabel('Rate of Penetration (ft/s)', fontsize=15)\n",
        "  plt.scatter(temp_dict.values(), temp_dict.keys())\n",
        "  plt.show()\n",
        "\n",
        "def bargraph(temp_dict):\n",
        "  plt.figure(figsize=(10,8))\n",
        "  plt.title('Bar Graph\\n', fontsize=20)\n",
        "  plt.xlabel('Weight On Bit (Klbs)', fontsize=15)\n",
        "  plt.ylabel('Rate of Penetration (ft/s)', fontsize=15)\n",
        "  plt.bar(temp_dict.values(), temp_dict.keys())\n",
        "  plt.show()\n",
        "\n"
      ],
      "execution_count": 20,
      "outputs": []
    },
    {
      "cell_type": "markdown",
      "metadata": {
        "id": "TJARbcVKqHT1"
      },
      "source": [
        "# Function to calculate ROP and Optimal Weight On Bits"
      ]
    },
    {
      "cell_type": "code",
      "metadata": {
        "colab": {
          "base_uri": "https://localhost:8080/",
          "height": 1000
        },
        "id": "kA8rTn15mgO7",
        "outputId": "8746b9ca-3508-4be4-ad19-17261c8885d3"
      },
      "source": [
        "def calculate_average_ROP():\n",
        "\n",
        "  ROP_and_weightOnBit={}  #stores ROP and weightOnBit for each drilling period\n",
        "  start_depth=0           # stores depth at start of each drilling period\n",
        "  end_depth=0             # stores depth at end of each drilling period\n",
        "  count_drilling_time=0   # stores time for each drilling period     \n",
        "  weights_each_period=[]  # stores all weight on bit during each drilling period\n",
        "\n",
        "\n",
        "  for i in range(0,len(df_drilling)):\n",
        "    \n",
        "    if(df_drilling['WeightOnBit_klbs'][i]!=0):  # checks if we are in drilling period\n",
        "\n",
        "      count_drilling_time+=1  \n",
        "      weights_each_period.append(df_drilling['WeightOnBit_klbs'][i])\n",
        "      \n",
        "      if(df_drilling['WeightOnBit_klbs'][i-1]==0):  # gets the depth at the start of period\n",
        "        start = df_drilling['HoleDepth_ft'][i]\n",
        "      elif(df_drilling['WeightOnBit_klbs'][i+1]==0):  # gets the depth at the end of period\n",
        "        end = df_drilling['HoleDepth_ft'][i]\n",
        "\n",
        "    elif(i!=0 and df_drilling['WeightOnBit_klbs'][i]==0 and df_drilling['WeightOnBit_klbs'][i-1]!=0) : \n",
        "      #if we reached end of the period append ROP as key and median weight of drilling period as item\n",
        "      ROP_and_weightOnBit[(end-start)/count_drilling_time] = weights_each_period[int(len(weights_each_period)/2)]\n",
        "\n",
        "    else: # sets counter and weights to 0 if not drilling\n",
        "      count_drilling_time=0\n",
        "      weights_each_period=[]\n",
        "\n",
        "  sum=0\n",
        "  for key in ROP_and_weightOnBit:\n",
        "    sum+=key\n",
        "\n",
        "  bargraph(ROP_and_weightOnBit)\n",
        "  print(\"\\n\\n\\n\")\n",
        "  scatterplot(ROP_and_weightOnBit)\n",
        "  print(\"\\n\\n\\n\")\n",
        "  print(\"Average Rate of Penetartion: \"+str(round(sum/len(ROP_and_weightOnBit),3))+\" ft/s\")\n",
        "  print(\"Maximum Rate of Penetartion: \"+str(round(max(ROP_and_weightOnBit),3))+\" ft/s\")\n",
        "  print(\"Optimal Weight on Bit: \"+str(round(ROP_and_weightOnBit[max(ROP_and_weightOnBit)],3))+\" klbs\")\n",
        "  \n",
        "\n",
        "calculate_average_ROP()"
      ],
      "execution_count": 21,
      "outputs": [
        {
          "output_type": "display_data",
          "data": {
            "image/png": "[encoded data removed]",
            "text/plain": [
              "<Figure size 720x576 with 1 Axes>"
            ]
          },
          "metadata": {
            "needs_background": "light"
          }
        },
        {
          "output_type": "stream",
          "name": "stdout",
          "text": [
            "\n",
            "\n",
            "\n",
            "\n"
          ]
        },
        {
          "output_type": "display_data",
          "data": {
            "image/png": "[encoded data removed]",
            "text/plain": [
              "<Figure size 720x576 with 1 Axes>"
            ]
          },
          "metadata": {
            "needs_background": "light"
          }
        },
        {
          "output_type": "stream",
          "name": "stdout",
          "text": [
            "\n",
            "\n",
            "\n",
            "\n",
            "Average Rate of Penetartion: 0.253 ft/s\n",
            "Maximum Rate of Penetartion: 0.273 ft/s\n",
            "Optimal Weight on Bit: 53.989 klbs\n"
          ]
        }
      ]
    }
  ]
}